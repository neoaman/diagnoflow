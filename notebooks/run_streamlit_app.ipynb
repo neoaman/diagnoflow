{
 "cells": [
  {
   "cell_type": "markdown",
   "metadata": {},
   "source": [
    "[![Open In Colab](https://colab.research.google.com/assets/colab-badge.svg)](https://colab.research.google.com/github/neoaman/diagnoflow/blob/main/notebooks/run_streamlit_app.ipynb)"
   ]
  },
  {
   "cell_type": "code",
   "execution_count": null,
   "metadata": {},
   "outputs": [],
   "source": [
    "!curl https://ollama.ai/install.sh | sh\n",
    "!npm install localtunnel\n",
    "!export OLLAMA_HOST=0.0.0.0\n",
    "!ollama serve &> /dev/null &\n",
    "!ollama pull mistral &>/dev/null"
   ]
  },
  {
   "cell_type": "code",
   "execution_count": null,
   "metadata": {},
   "outputs": [],
   "source": [
    "! git clone https://github.com/neoaman/diagnoflow.git\n",
    "%cd /content/diagnoflow\n",
    "! pip install -r requirements.txt -q"
   ]
  },
  {
   "cell_type": "code",
   "execution_count": null,
   "metadata": {},
   "outputs": [],
   "source": [
    "!curl ipv4.icanhazip.com"
   ]
  },
  {
   "cell_type": "code",
   "execution_count": null,
   "metadata": {},
   "outputs": [],
   "source": [
    "!export OLLAMA_HOST=0.0.0.0\n",
    "!ollama serve &> /dev/null &\n",
    "# !streamlit run app.py --server.port 8050 --server.address 0.0.0.0 \n",
    "!streamlit run app.py --server.port 8050 --server.address 0.0.0.0 &>/content/logs.txt & npx localtunnel --port 8050 & curl ipv4.icanhazip.com & tail -f /content/logs.txt"
   ]
  }
 ],
 "metadata": {
  "language_info": {
   "name": "python"
  },
  "orig_nbformat": 4
 },
 "nbformat": 4,
 "nbformat_minor": 2
}
