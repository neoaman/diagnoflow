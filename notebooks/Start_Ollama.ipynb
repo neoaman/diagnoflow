{
  "cells": [
    {
      "cell_type": "markdown",
      "metadata": {},
      "source": [
        "[![Open In Colab](https://colab.research.google.com/assets/colab-badge.svg)](https://colab.research.google.com/github/neoaman/diagnoflow/blob/main/notebooks/Start_Ollama.ipynb)"
      ]
    },
    {
      "cell_type": "code",
      "execution_count": null,
      "metadata": {
        "colab": {
          "base_uri": "https://localhost:8080/"
        },
        "id": "GbngD64kbKms",
        "outputId": "6b298721-02f4-4043-9f8c-b017129f64d5"
      },
      "outputs": [
        {
          "name": "stdout",
          "output_type": "stream",
          "text": [
            "Writing script.sh\n"
          ]
        }
      ],
      "source": [
        "!curl https://ollama.ai/install.sh | sh\n",
        "!npm install localtunnel\n",
        "!export OLLAMA_HOST=0.0.0.0\n",
        "!ollama serve &> /dev/null &\n",
        "!ollama pull gemma:2b"
      ]
    },
    {
      "cell_type": "code",
      "execution_count": null,
      "metadata": {
        "colab": {
          "base_uri": "https://localhost:8080/"
        },
        "id": "qw6GOUIMcOfE",
        "outputId": "11a8588a-f395-483e-d0ca-bd09ebfb0c8e"
      },
      "outputs": [
        {
          "name": "stdout",
          "output_type": "stream",
          "text": [
            "env: OLLAMA_HOST=0.0.0.0\n",
            "34.136.166.51\n",
            "\u001b[K\u001b[?25hnpx: installed 22 in 2.811s\n",
            "your url is: https://neoaman.loca.lt\n"
          ]
        }
      ],
      "source": [
        "%env OLLAMA_HOST=0.0.0.0\n",
        "!ollama serve &> /dev/null &\n",
        "!npx localtunnel --port 11434 -s neo.diagno.flow & curl ipv4.icanhazip.com"
      ]
    }
  ],
  "metadata": {
    "accelerator": "GPU",
    "colab": {
      "gpuType": "T4",
      "provenance": []
    },
    "kernelspec": {
      "display_name": "Python 3",
      "name": "python3"
    },
    "language_info": {
      "name": "python"
    }
  },
  "nbformat": 4,
  "nbformat_minor": 0
}
