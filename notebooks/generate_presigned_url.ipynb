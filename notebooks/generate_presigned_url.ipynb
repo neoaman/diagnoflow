{
 "cells": [
  {
   "cell_type": "code",
   "execution_count": 8,
   "metadata": {},
   "outputs": [],
   "source": [
    "import minio\n",
    "from datetime import timedelta, datetime\n",
    "import json"
   ]
  },
  {
   "cell_type": "code",
   "execution_count": 3,
   "metadata": {},
   "outputs": [],
   "source": [
    "ACCESS_KEY = input(\"Enter access key:\")\n",
    "SECRET_KEY = input(\"Enter secret key:\")\n",
    "MINIO_CLIENT = minio.Minio(\"s3.mlhub.in\", access_key=ACCESS_KEY, secret_key=SECRET_KEY, secure=False)"
   ]
  },
  {
   "cell_type": "code",
   "execution_count": 6,
   "metadata": {},
   "outputs": [],
   "source": [
    "index_faiss = MINIO_CLIENT.get_presigned_url(method=\"GET\",bucket_name=\"public\",expires=timedelta(days=7),object_name=\"medical_index/index.faiss\")\n",
    "index_pkl   = MINIO_CLIENT.get_presigned_url(method=\"GET\",bucket_name=\"public\",expires=timedelta(days=7),object_name=\"medical_index/index.pkl\")"
   ]
  },
  {
   "cell_type": "code",
   "execution_count": 12,
   "metadata": {},
   "outputs": [],
   "source": [
    "with open(\"../assets/data/config.json\",\"w\") as cj:\n",
    "    cj.write(json.dumps({\"index_faiss_url\":index_faiss,\"index_pkl_url\":index_pkl}))"
   ]
  }
 ],
 "metadata": {
  "kernelspec": {
   "display_name": ".venv",
   "language": "python",
   "name": "python3"
  },
  "language_info": {
   "codemirror_mode": {
    "name": "ipython",
    "version": 3
   },
   "file_extension": ".py",
   "mimetype": "text/x-python",
   "name": "python",
   "nbconvert_exporter": "python",
   "pygments_lexer": "ipython3",
   "version": "3.11.8"
  },
  "orig_nbformat": 4
 },
 "nbformat": 4,
 "nbformat_minor": 2
}
